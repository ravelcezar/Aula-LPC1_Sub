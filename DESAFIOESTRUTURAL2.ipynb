{
  "nbformat": 4,
  "nbformat_minor": 0,
  "metadata": {
    "colab": {
      "name": "DESAFIOESTRUTURAL2.ipynb",
      "provenance": [],
      "authorship_tag": "ABX9TyNe03lSDPmejHc2YGnwsCul",
      "include_colab_link": true
    },
    "kernelspec": {
      "name": "python3",
      "display_name": "Python 3"
    },
    "language_info": {
      "name": "python"
    }
  },
  "cells": [
    {
      "cell_type": "markdown",
      "metadata": {
        "id": "view-in-github",
        "colab_type": "text"
      },
      "source": [
        "<a href=\"https://colab.research.google.com/github/ravelcezar/Aula-LPC1_Sub/blob/main/DESAFIOESTRUTURAL2.ipynb\" target=\"_parent\"><img src=\"https://colab.research.google.com/assets/colab-badge.svg\" alt=\"Open In Colab\"/></a>"
      ]
    },
    {
      "cell_type": "code",
      "execution_count": null,
      "metadata": {
        "colab": {
          "base_uri": "https://localhost:8080/"
        },
        "id": "925F3r2Ir9zV",
        "outputId": "3ea8239c-c8a7-4d3a-da3d-a01d4df58448"
      },
      "outputs": [
        {
          "output_type": "stream",
          "name": "stdout",
          "text": [
            "Digite um número: 500\n",
            "Digite um número: 100\n",
            "o maior número é: 500.0 \n"
          ]
        }
      ],
      "source": [
        "#ETE PORTO DIGITAL\n",
        "#PROFESSOR: CLOVES ROCHA\n",
        "#ALUNO: RAVEL\n",
        "\n",
        "numero1 = float(input(\"Digite um número: \"))\n",
        "numero2 = float(input(\"Digite um número: \"))\n",
        "if numero1 > numero2:\n",
        "  print(\"O maior número é: {} \" .format(numero1))\n",
        "elif numero2 > numero1:\n",
        "  print(\"O maior número é: \" .format(numero2))\n",
        "else:\n",
        "  print(\"Os números são iguais! \")"
      ]
    },
    {
      "cell_type": "code",
      "source": [
        "numero = float(input(\"Digite um número: \"))\n",
        "if numero > 0: \n",
        "  print(\" o vcalor {} é positivo.\" .format(numero))\n",
        "elif numero == 0:\n",
        "  print(\"o valor {} é neutro.\" .format(numero))\n",
        "else:\n",
        "  print(\"O valor {} é negativo.\" .format(numero))"
      ],
      "metadata": {
        "colab": {
          "base_uri": "https://localhost:8080/"
        },
        "id": "elkKc8pgt1Ni",
        "outputId": "024de7a1-cf20-48d1-86cc-2efbc629dd5f"
      },
      "execution_count": null,
      "outputs": [
        {
          "output_type": "stream",
          "name": "stdout",
          "text": [
            "Digite um número: 5\n",
            " o vcalor 5.0 é positivo.\n"
          ]
        }
      ]
    },
    {
      "cell_type": "code",
      "source": [
        "s = str(input(\"Digite um letra: M - Masculino | F - Feminino \")) .upper()\n",
        "while not ((s == \"M\") or (s == \"F\")):\n",
        "  print(\"Sexo invalido. Tente novamente!\")\n",
        "  s = str(input(\"Digite uma letra: M - Masculino | F - Feminino \")) .upper()\n",
        "  if s == \"M\":3\n",
        "    print(\"Masculino\")\n",
        "  else:\n",
        "    print(\"Feminino\")"
      ],
      "metadata": {
        "id": "XHUFFpZBua3N",
        "colab": {
          "base_uri": "https://localhost:8080/"
        },
        "outputId": "40217131-475a-47b5-e045-6f12189db3ef"
      },
      "execution_count": null,
      "outputs": [
        {
          "output_type": "stream",
          "name": "stdout",
          "text": [
            "Digite um letra: M - Masculino | F - Feminino 7\n",
            "Sexo invalido. Tente novamente!\n",
            "Digite uma letra: M - Masculino | F - Feminino M\n",
            "Masculino\n"
          ]
        }
      ]
    },
    {
      "cell_type": "code",
      "source": [
        "letra = input(\"Digite uma letra: \") .upper()\n",
        "while letra.isnumeric() == True:\n",
        "  print(\"Digitou um caractere errado, Tente novamente com uma letra. \")\n",
        "  letra = input(\"Digite uma letra: \") .upper()\n",
        "  if letra == \"A\" or letra == \"I\" or letra == \"I\" or letra == \"O\" or letra == \"U\":\n",
        "    print(\"A letra {} é uma vogal! \" .format(letra))\n",
        "  else: \n",
        "    print(\" A letra {} é uma consoante! \" .format(letra))"
      ],
      "metadata": {
        "colab": {
          "base_uri": "https://localhost:8080/"
        },
        "id": "_VFC6wssGhCG",
        "outputId": "1a01a172-a63d-4bfb-e40f-9db403378ef6"
      },
      "execution_count": null,
      "outputs": [
        {
          "output_type": "stream",
          "name": "stdout",
          "text": [
            "Digite uma letra: 9\n",
            "Digitou um caractere errado, Tente novamente com uma letra. \n",
            "Digite uma letra: A\n",
            "A letra A é uma vogal! \n"
          ]
        }
      ]
    },
    {
      "cell_type": "code",
      "source": [
        "n1 = int(input(\"Digite o primeiro número: \"))\n",
        "n2 = int(input(\"Digite o segundo número: \"))\n",
        "n3 = int(input(\"Digite o terceiro número: \"))\n",
        "if n1 > n2  and n1 > n3:\n",
        "  print(\"O primero número {} que é maior. \" .format(n1))\n",
        "elif n2 > n1  and n2 > n3:\n",
        "  print('O segundo número {} que é maior.' .format(n2))\n",
        "elif n3 > n2 and n3 > n1:\n",
        "   print('O terceiro número {} que é maior.' .format(n3))\n",
        "if n1 == n2 and n1 != n3:\n",
        "  print('O primeiro e o segundo número é {}, são iguais. ' .format(n1))\n",
        "elif n2 == n3 and n2 != n1:\n",
        "  print('O segundo e o terceiro número é {}, são iguais. ' .format(n2, n3))\n",
        "elif n1 == n3 and n3 != n2:\n",
        "  print('O primeiro e terceiro número é {}, são iguais. '. format(n1, n3))\n",
        "elif n1 == n2 and n1 == n2 and n2 == n3:\n",
        "  print('Todos os número são iguais.')\n",
        "if n1 < n2 and n2 < n3:\n",
        "  print('O primeiro número {} é menor. ' .format(n1))\n",
        "elif n2 < n1 and n2 < n3:\n",
        "  print('O segundo número {} é menor. ' .format(n2))\n",
        "elif n3 < n2 and n3 < n1:\n",
        "  print('O terceiro número {}  é menor. ' .format(n3))"
      ],
      "metadata": {
        "id": "YOcIBcE4LQdv",
        "colab": {
          "base_uri": "https://localhost:8080/"
        },
        "outputId": "b168401c-2321-4731-d6ff-6b981c00aaeb"
      },
      "execution_count": 7,
      "outputs": [
        {
          "output_type": "stream",
          "name": "stdout",
          "text": [
            "Digite o primeiro número: 4\n",
            "Digite o segundo número: 5\n",
            "Digite o terceiro número: 9\n",
            "O terceiro número 9 que é maior.\n",
            "O primeiro número 4 é menor. \n"
          ]
        }
      ]
    },
    {
      "cell_type": "code",
      "source": [
        "n1 = int(input(\"Digite o valor do primeiro produto R$: \"))\n",
        "n2 = int(input(\"Digite o valor do segundo produto R$: \"))\n",
        "n3 = int(input(\"Digite o valor do terceiro produto R$: \"))\n",
        "\n",
        "if n1 < n2 and n1 < n3:\n",
        "  print('O primeiro produto que custa R${} é o que você deve comprar. '.format(n1))\n",
        "elif n2 < n1 and n2 < n3:\n",
        "  print('O segundo produto que custa R${} é o que você deve comprar.'.format(n2))\n",
        "elif n3 < n2 and n3 < n1:\n",
        "  print('O terceiro produto que custa R${} é o que você deve comprar'.format(n3))"
      ],
      "metadata": {
        "id": "xAQ-4IQpKPs-",
        "colab": {
          "base_uri": "https://localhost:8080/"
        },
        "outputId": "386aa247-e934-4949-a653-0cb79274a6fb"
      },
      "execution_count": 10,
      "outputs": [
        {
          "output_type": "stream",
          "name": "stdout",
          "text": [
            "Digite o valor do primeiro produto R$: 100\n",
            "Digite o valor do segundo produto R$: 90\n",
            "Digite o valor do segundo produto R$: 180\n",
            "O segundo produto que custa R$90 é o que você deve comprar.\n"
          ]
        }
      ]
    },
    {
      "cell_type": "code",
      "source": [
        "n1 = int(input('Digite o primeiro número: '))\n",
        "n2 = int(input('Digite o segundo número: '))\n",
        "n3 = int(input('Digite o terceiro número: '))\n",
        "if n1 > n2 > n3:\n",
        "  print(n1, n2, n3)\n",
        "if n1 > n3 > n2:\n",
        "  print(n1, n3, n2)\n",
        "if n2 > n1 > n3:\n",
        "  print(n2, n1, n3)\n",
        "if n2 > n3 > n1:\n",
        "  print(n2, n3, n1)\n",
        "if n3 > n1 > n2:\n",
        "  print(n3, n1, n2)\n",
        "if n3 > n2 > n1:\n",
        "  print(n3, n2, n1)\n",
        "if n1 == n2 or n1 == n3 or n2 == n3:\n",
        "  print('Inválido')"
      ],
      "metadata": {
        "colab": {
          "base_uri": "https://localhost:8080/"
        },
        "id": "9H-r9_QbFR-P",
        "outputId": "8ed7d8a2-158c-43c9-99c9-21bade661f5a"
      },
      "execution_count": 15,
      "outputs": [
        {
          "output_type": "stream",
          "name": "stdout",
          "text": [
            "Digite o primeiro número: 9\n",
            "Digite o segundo número: 17\n",
            "Digite o terceiro número: 20\n",
            "20 17 9\n"
          ]
        }
      ]
    },
    {
      "cell_type": "code",
      "source": [
        "h = str(input('Em que turno você estuda ?\\n(M - Matutino | V - Vespertino | N - Noturno) ')).upper()\n",
        "if h == 'M':\n",
        "  print('Bom dia!')\n",
        "elif h == 'V':\n",
        "  print('Boa tarde!')\n",
        "elif h == 'N':\n",
        "  print('Boa noite!')\n",
        "else:\n",
        "  print('Valor Inválido!')"
      ],
      "metadata": {
        "colab": {
          "base_uri": "https://localhost:8080/"
        },
        "id": "0uc0Vc-4KmRs",
        "outputId": "885dd08b-bb47-4561-8a19-730c4e3c374e"
      },
      "execution_count": 16,
      "outputs": [
        {
          "output_type": "stream",
          "name": "stdout",
          "text": [
            "Em que turno você estuda ?\n",
            "(M - Matutino | V - Vespertino | N - Noturno) M\n",
            "Bom dia!\n"
          ]
        }
      ]
    },
    {
      "cell_type": "code",
      "source": [
        "from datetime import date\n",
        "print('Digite o número 0 para analisar o ano atual !')\n",
        "ano = int(input('Digite o ano que deseja descobrir se é BISSEXTO: '))\n",
        "if ano == 0:\n",
        "    ano = date.today().year\n",
        "if (ano % 400 == 0) and (ano % 100 == 0):\n",
        "    print('{} é um ano BISSEXTO !'.format(ano))\n",
        "elif (ano % 4 == 0) and (ano % 100 != 0):\n",
        "    print('{} é um ano BISSEXTO !'.format(ano))\n",
        "else:\n",
        "    print('{} não é um ano BISSEXTO !'.format(ano))"
      ],
      "metadata": {
        "colab": {
          "base_uri": "https://localhost:8080/"
        },
        "id": "oBL2WsbDKxda",
        "outputId": "c27c38a2-978e-4a19-c1c9-c387fd0b127e"
      },
      "execution_count": 17,
      "outputs": [
        {
          "output_type": "stream",
          "name": "stdout",
          "text": [
            "Digite o número 0 para analisar o ano atual !\n",
            "Digite o ano que deseja descobrir se é BISSEXTO: 2022\n",
            "2022 não é um ano BISSEXTO !\n"
          ]
        }
      ]
    },
    {
      "cell_type": "code",
      "source": [
        "dia = int(input('Digite o dia: '))\n",
        "mes = int(input('Digite o mês: '))\n",
        "ano = int(input('Digite o ano: '))\n",
        "print('Formato: {:2}/{:2}/{:4}'.format(dia, mes, ano))\n",
        "if dia > 31 or dia < 1:\n",
        "  print('Dia Inválido !')\n",
        "if mes > 12 or mes < 1:\n",
        "  print('Mês Inválido !')\n",
        "if ano < 0:\n",
        "  print('Ano Inválido !')\n",
        "else:\n",
        "  print('A data está correta !')"
      ],
      "metadata": {
        "colab": {
          "base_uri": "https://localhost:8080/"
        },
        "id": "YGzBgeWjK9NC",
        "outputId": "f0471036-43ba-4a3e-b99a-e9b2a0c732f0"
      },
      "execution_count": 18,
      "outputs": [
        {
          "output_type": "stream",
          "name": "stdout",
          "text": [
            "Digite o dia: 04\n",
            "Digite o mês: 06\n",
            "Digite o ano: 1998\n",
            "Formato:  4/ 6/1998\n",
            "A data está correta !\n"
          ]
        }
      ]
    },
    {
      "cell_type": "code",
      "source": [
        "a = str(input('Telefonou para a vítima ? ')).upper()\n",
        "b = str(input('Esteve no local do crime ? ')).upper()\n",
        "c = str(input('Mora perto da vítima ? ')).upper()\n",
        "d = str(input('Devia para a vítima ? ')).upper()\n",
        "e = str(input('Já trabalhou com a vítima ? ')).upper()\n",
        "if b == 'S' and c == 'N' or d == 'N':\n",
        "  print('Suspeita !')\n",
        "elif b == 'S' and c == 'S' and d == 'S' and e == 'N':\n",
        "  print('Cúmplice !')\n",
        "elif b == 'S' and c == 'S' and d == 'S' and e == 'S':\n",
        "  print('Assasino !')\n",
        "else:\n",
        "  print('Inocente !')"
      ],
      "metadata": {
        "colab": {
          "base_uri": "https://localhost:8080/"
        },
        "id": "KzF8XSehLFh6",
        "outputId": "bbfc0224-4a78-4bf2-ed8a-bb4dfa14e000"
      },
      "execution_count": 19,
      "outputs": [
        {
          "output_type": "stream",
          "name": "stdout",
          "text": [
            "Telefonou para a vítima ? S\n",
            "Esteve no local do crime ? N\n",
            "Mora perto da vítima ? N\n",
            "Devia para a vítima ? N\n",
            "Já trabalhou com a vítima ? N\n",
            "Suspeita !\n"
          ]
        }
      ]
    }
  ]
}