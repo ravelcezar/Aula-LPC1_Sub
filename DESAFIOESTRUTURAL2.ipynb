{
  "nbformat": 4,
  "nbformat_minor": 0,
  "metadata": {
    "colab": {
      "name": "DESAFIOESTRUTURAL2.ipynb",
      "provenance": [],
      "authorship_tag": "ABX9TyNohzayWNgvpxUahgXgmRbw",
      "include_colab_link": true
    },
    "kernelspec": {
      "name": "python3",
      "display_name": "Python 3"
    },
    "language_info": {
      "name": "python"
    }
  },
  "cells": [
    {
      "cell_type": "markdown",
      "metadata": {
        "id": "view-in-github",
        "colab_type": "text"
      },
      "source": [
        "<a href=\"https://colab.research.google.com/github/ravelcezar/Aula-LPC1_Sub/blob/main/DESAFIOESTRUTURAL2.ipynb\" target=\"_parent\"><img src=\"https://colab.research.google.com/assets/colab-badge.svg\" alt=\"Open In Colab\"/></a>"
      ]
    },
    {
      "cell_type": "code",
      "execution_count": 4,
      "metadata": {
        "colab": {
          "base_uri": "https://localhost:8080/"
        },
        "id": "925F3r2Ir9zV",
        "outputId": "3ea8239c-c8a7-4d3a-da3d-a01d4df58448"
      },
      "outputs": [
        {
          "output_type": "stream",
          "name": "stdout",
          "text": [
            "Digite um número: 500\n",
            "Digite um número: 100\n",
            "o maior número é: 500.0 \n"
          ]
        }
      ],
      "source": [
        "#ETE PORTO DIGITAL\n",
        "#PROFESSOR: CLOVES ROCHA\n",
        "#ALUNO: RAVEL\n",
        "\n",
        "numero1 = float(input(\"Digite um número: \"))\n",
        "numero2 = float(input(\"Digite um número: \"))\n",
        "if numero1 > numero2:\n",
        "  print(\"O maior número é: {} \" .format(numero1))\n",
        "elif numero2 > numero1:\n",
        "  print(\"O maior número é: \" .format(numero2))\n",
        "else:\n",
        "  print(\"Os números são iguais! \")"
      ]
    },
    {
      "cell_type": "code",
      "source": [
        "numero = float(input(\"Digite um número: \"))\n",
        "if numero > 0: \n",
        "  print(\" o vcalor {} é positivo.\" .format(numero))\n",
        "elif numero == 0:\n",
        "  print(\"o valor {} é neutro.\" .format(numero))\n",
        "else:\n",
        "  print(\"O valor {} é negativo.\" .format(numero))"
      ],
      "metadata": {
        "colab": {
          "base_uri": "https://localhost:8080/"
        },
        "id": "elkKc8pgt1Ni",
        "outputId": "024de7a1-cf20-48d1-86cc-2efbc629dd5f"
      },
      "execution_count": 6,
      "outputs": [
        {
          "output_type": "stream",
          "name": "stdout",
          "text": [
            "Digite um número: 5\n",
            " o vcalor 5.0 é positivo.\n"
          ]
        }
      ]
    },
    {
      "cell_type": "code",
      "source": [
        ""
      ],
      "metadata": {
        "id": "XHUFFpZBua3N"
      },
      "execution_count": null,
      "outputs": []
    }
  ]
}