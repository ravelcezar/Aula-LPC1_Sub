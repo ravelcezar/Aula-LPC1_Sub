{
  "nbformat": 4,
  "nbformat_minor": 0,
  "metadata": {
    "colab": {
      "name": "DESAFIOESTRUTURAL2.ipynb",
      "provenance": [],
      "authorship_tag": "ABX9TyN+B1e3JETr4tpSY3oiYYXg",
      "include_colab_link": true
    },
    "kernelspec": {
      "name": "python3",
      "display_name": "Python 3"
    },
    "language_info": {
      "name": "python"
    }
  },
  "cells": [
    {
      "cell_type": "markdown",
      "metadata": {
        "id": "view-in-github",
        "colab_type": "text"
      },
      "source": [
        "<a href=\"https://colab.research.google.com/github/ravelcezar/Aula-LPC1_Sub/blob/main/DESAFIOESTRUTURAL2.ipynb\" target=\"_parent\"><img src=\"https://colab.research.google.com/assets/colab-badge.svg\" alt=\"Open In Colab\"/></a>"
      ]
    },
    {
      "cell_type": "code",
      "execution_count": null,
      "metadata": {
        "colab": {
          "base_uri": "https://localhost:8080/"
        },
        "id": "925F3r2Ir9zV",
        "outputId": "3ea8239c-c8a7-4d3a-da3d-a01d4df58448"
      },
      "outputs": [
        {
          "output_type": "stream",
          "name": "stdout",
          "text": [
            "Digite um número: 500\n",
            "Digite um número: 100\n",
            "o maior número é: 500.0 \n"
          ]
        }
      ],
      "source": [
        "#ETE PORTO DIGITAL\n",
        "#PROFESSOR: CLOVES ROCHA\n",
        "#ALUNO: RAVEL\n",
        "\n",
        "numero1 = float(input(\"Digite um número: \"))\n",
        "numero2 = float(input(\"Digite um número: \"))\n",
        "if numero1 > numero2:\n",
        "  print(\"O maior número é: {} \" .format(numero1))\n",
        "elif numero2 > numero1:\n",
        "  print(\"O maior número é: \" .format(numero2))\n",
        "else:\n",
        "  print(\"Os números são iguais! \")"
      ]
    },
    {
      "cell_type": "code",
      "source": [
        "numero = float(input(\"Digite um número: \"))\n",
        "if numero > 0: \n",
        "  print(\" o vcalor {} é positivo.\" .format(numero))\n",
        "elif numero == 0:\n",
        "  print(\"o valor {} é neutro.\" .format(numero))\n",
        "else:\n",
        "  print(\"O valor {} é negativo.\" .format(numero))"
      ],
      "metadata": {
        "colab": {
          "base_uri": "https://localhost:8080/"
        },
        "id": "elkKc8pgt1Ni",
        "outputId": "024de7a1-cf20-48d1-86cc-2efbc629dd5f"
      },
      "execution_count": null,
      "outputs": [
        {
          "output_type": "stream",
          "name": "stdout",
          "text": [
            "Digite um número: 5\n",
            " o vcalor 5.0 é positivo.\n"
          ]
        }
      ]
    },
    {
      "cell_type": "code",
      "source": [
        "s = str(input(\"Digite um letra: M - Masculino | F - Feminino \")) .upper()\n",
        "while not ((s == \"M\") or (s == \"F\")):\n",
        "  print(\"Sexo invalido. Tente novamente!\")\n",
        "  s = str(input(\"Digite uma letra: M - Masculino | F - Feminino \")) .upper()\n",
        "  if s == \"M\":3\n",
        "    print(\"Masculino\")\n",
        "  else:\n",
        "    print(\"Feminino\")"
      ],
      "metadata": {
        "id": "XHUFFpZBua3N",
        "colab": {
          "base_uri": "https://localhost:8080/"
        },
        "outputId": "40217131-475a-47b5-e045-6f12189db3ef"
      },
      "execution_count": 4,
      "outputs": [
        {
          "output_type": "stream",
          "name": "stdout",
          "text": [
            "Digite um letra: M - Masculino | F - Feminino 7\n",
            "Sexo invalido. Tente novamente!\n",
            "Digite uma letra: M - Masculino | F - Feminino M\n",
            "Masculino\n"
          ]
        }
      ]
    },
    {
      "cell_type": "code",
      "source": [
        "letra = input(\"Digite uma letra: \") .upper()\n",
        "while letra.isnumeric() == True:\n",
        "  print(\"Digitou um caractere errado, Tente novamente com uma letra. \")\n",
        "  letra = input(\"Digite uma letra: \") .upper()\n",
        "  if letra == \"A\" or letra == \"I\" or letra == \"I\" or letra == \"O\" or letra == \"U\":\n",
        "    print(\"A letra {} é uma vogal! \" .format(letra))\n",
        "  else: \n",
        "    print(\" A letra {} é uma consoante! \" .format(letra))"
      ],
      "metadata": {
        "colab": {
          "base_uri": "https://localhost:8080/"
        },
        "id": "_VFC6wssGhCG",
        "outputId": "1a01a172-a63d-4bfb-e40f-9db403378ef6"
      },
      "execution_count": 11,
      "outputs": [
        {
          "output_type": "stream",
          "name": "stdout",
          "text": [
            "Digite uma letra: 9\n",
            "Digitou um caractere errado, Tente novamente com uma letra. \n",
            "Digite uma letra: A\n",
            "A letra A é uma vogal! \n"
          ]
        }
      ]
    },
    {
      "cell_type": "code",
      "source": [
        "n1 = (input(\"Digite\"))"
      ],
      "metadata": {
        "id": "YOcIBcE4LQdv"
      },
      "execution_count": null,
      "outputs": []
    },
    {
      "cell_type": "code",
      "source": [
        ""
      ],
      "metadata": {
        "id": "xAQ-4IQpKPs-"
      },
      "execution_count": null,
      "outputs": []
    }
  ]
}