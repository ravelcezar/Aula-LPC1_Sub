{
  "nbformat": 4,
  "nbformat_minor": 0,
  "metadata": {
    "colab": {
      "name": "Untitled6.ipynb",
      "provenance": [],
      "authorship_tag": "ABX9TyOi2m60tzQiu7BdBU4QHRXE",
      "include_colab_link": true
    },
    "kernelspec": {
      "name": "python3",
      "display_name": "Python 3"
    },
    "language_info": {
      "name": "python"
    }
  },
  "cells": [
    {
      "cell_type": "markdown",
      "metadata": {
        "id": "view-in-github",
        "colab_type": "text"
      },
      "source": [
        "<a href=\"https://colab.research.google.com/github/ravelcezar/Aula-LPC1_Sub/blob/main/Desafio_Desplugado.ipynb\" target=\"_parent\"><img src=\"https://colab.research.google.com/assets/colab-badge.svg\" alt=\"Open In Colab\"/></a>"
      ]
    },
    {
      "cell_type": "code",
      "execution_count": null,
      "metadata": {
        "colab": {
          "base_uri": "https://localhost:8080/"
        },
        "id": "JosJuA1k83Hl",
        "outputId": "c89ffde0-111e-4bc3-b201-a4564311f066"
      },
      "outputs": [
        {
          "output_type": "stream",
          "name": "stdout",
          "text": [
            "Integrante 1 : Lucas , 19 anos\n",
            "Integrante 2 : Marcos , 25 anos\n",
            "Integrante 3 : Guilherme , 18 anos\n",
            "Integrante 4 : Elvis , 27 anos\n",
            "Integrante 5 : Ravel , 23 anos\n",
            "----------------------\n",
            "Rank do mais velho para o mais novo: \n",
            "Idade 1 : 27 anos\n",
            "Idade 2 : 25 anos\n",
            "Idade 3 : 23 anos\n",
            "Idade 4 : 19 anos\n",
            "Idade 5 : 18 anos\n"
          ]
        }
      ],
      "source": [
        "# ETE PORTO DIGITAL\n",
        "# PROFESSOR: CLOVES\n",
        "# ALUNO: RAVEL CEZAR\n",
        "\n",
        "grupo = ['Lucas', \"Marcos\", \"Guilherme\", \"Elvis\", \"Ravel\"]\n",
        "idades = [19, 25, 18, 27, 23]\n",
        "for x in range (0, 5):\n",
        "  print(\"Integrante\", x+1,\":\", grupo[x],\",\", idades[x], \"anos\")\n",
        "\n",
        "print(\"----------------------\")\n",
        "raquear_idades =  idades.sort(reverse=True)\n",
        "print(\"Rank do mais velho para o mais novo: \")\n",
        "\n",
        "for idade in range (0, 5):\n",
        "  print(\"Idade\", idade+1, \":\", idades[idade], \"anos\")"
      ]
    }
  ]
}