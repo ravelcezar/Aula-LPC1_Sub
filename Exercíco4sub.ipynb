{
  "nbformat": 4,
  "nbformat_minor": 0,
  "metadata": {
    "colab": {
      "name": "Untitled3.ipynb",
      "provenance": [],
      "authorship_tag": "ABX9TyNgw0vriRWC50J5Ny9+nBNm",
      "include_colab_link": true
    },
    "kernelspec": {
      "name": "python3",
      "display_name": "Python 3"
    },
    "language_info": {
      "name": "python"
    }
  },
  "cells": [
    {
      "cell_type": "markdown",
      "metadata": {
        "id": "view-in-github",
        "colab_type": "text"
      },
      "source": [
        "<a href=\"https://colab.research.google.com/github/ravelcezar/Aula-LPC1_Sub/blob/main/Exerc%C3%ADco4sub.ipynb\" target=\"_parent\"><img src=\"https://colab.research.google.com/assets/colab-badge.svg\" alt=\"Open In Colab\"/></a>"
      ]
    },
    {
      "cell_type": "code",
      "execution_count": null,
      "metadata": {
        "id": "n1KvjRWcmBJJ"
      },
      "outputs": [],
      "source": [
        "# ETE PORTO DIGITAL\n",
        "# PROFESSOR: CLOVES ROCHA\n",
        "# ESTUDANTE: RAVEL CEZAR\n",
        "while(True):\n",
        "  comando = int(input(\"escolha uma ação\"))\n",
        "  if comando == 1:\n",
        "      print(\"acelerar\")\n",
        "  elif comando == 2:\n",
        "      print(\"decolar\")\n",
        "  elif comando == 3:\n",
        "      print(\"planar\")\n",
        "  elif comando == 4:\n",
        "      print(\"função piloto automático\")\n",
        "  elif comando == 5:\n",
        "      print(\"pousar\")"
      ]
    }
  ]
}