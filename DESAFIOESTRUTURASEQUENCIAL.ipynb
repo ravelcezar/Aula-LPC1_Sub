{
  "nbformat": 4,
  "nbformat_minor": 0,
  "metadata": {
    "colab": {
      "name": "DESAFIOESTRUTURASEQUENCIAL.ipynb",
      "provenance": [],
      "authorship_tag": "ABX9TyP4LbhALze0pVuCZN4H4WmG",
      "include_colab_link": true
    },
    "kernelspec": {
      "name": "python3",
      "display_name": "Python 3"
    },
    "language_info": {
      "name": "python"
    }
  },
  "cells": [
    {
      "cell_type": "markdown",
      "metadata": {
        "id": "view-in-github",
        "colab_type": "text"
      },
      "source": [
        "<a href=\"https://colab.research.google.com/github/ravelcezar/Aula-LPC1_Sub/blob/main/DESAFIOESTRUTURASEQUENCIAL.ipynb\" target=\"_parent\"><img src=\"https://colab.research.google.com/assets/colab-badge.svg\" alt=\"Open In Colab\"/></a>"
      ]
    },
    {
      "cell_type": "code",
      "execution_count": 1,
      "metadata": {
        "colab": {
          "base_uri": "https://localhost:8080/"
        },
        "id": "hcZrUt2iwqa1",
        "outputId": "006be3ff-d8b6-4b28-866d-6680218bece7"
      },
      "outputs": [
        {
          "output_type": "stream",
          "name": "stdout",
          "text": [
            "ALÔ ETE PORTO DIGITAL\n"
          ]
        }
      ],
      "source": [
        "#ETE PORTO DIGITAL \n",
        "#PROFESSOR: CLOVES ROCHA\n",
        "#ALUNO: RAVEL CEZAR\n",
        "\n",
        "print(\"ALÔ ETE PORTO DIGITAL\")\n"
      ]
    },
    {
      "cell_type": "code",
      "source": [
        "number = input(\"digite um número: \")\n",
        "print(\"o numero informado foi: % s\"% (number))"
      ],
      "metadata": {
        "colab": {
          "base_uri": "https://localhost:8080/"
        },
        "id": "iSLizj92ys7_",
        "outputId": "02a1ab0f-056c-4fd3-bee1-85b49d48c31c"
      },
      "execution_count": 4,
      "outputs": [
        {
          "output_type": "stream",
          "name": "stdout",
          "text": [
            "digite um número: 5\n",
            "o numero informado foi: 5\n"
          ]
        }
      ]
    },
    {
      "cell_type": "code",
      "source": [
        "number1 = int(input(\"Digite um número: \"))\n",
        "number2 = int(input(\"Digite um número: \"))\n",
        "print(\"soma dos números: \", (number1+number2))"
      ],
      "metadata": {
        "colab": {
          "base_uri": "https://localhost:8080/"
        },
        "id": "JBfERMTW0I8-",
        "outputId": "89336788-ba9a-4925-ce6b-30f4dca9bc4f"
      },
      "execution_count": 6,
      "outputs": [
        {
          "output_type": "stream",
          "name": "stdout",
          "text": [
            "Digite um número: 4\n",
            "Digite um número: 5\n",
            "soma dos números:  9\n"
          ]
        }
      ]
    },
    {
      "cell_type": "code",
      "source": [
        "\n",
        "n1 = int(input(\"Digite a primeira nota: \"))\n",
        "n2 = int(input(\"Digite a segunda nota: \"))\n",
        "n3 = int(input(\"Digite a terceira nota: \"))\n",
        "n4 = int(input(\"Digite a quarta nota: \"))\n",
        "print(\"Média:\", (n1+n2+n3+n4/4))"
      ],
      "metadata": {
        "colab": {
          "base_uri": "https://localhost:8080/"
        },
        "id": "Fs2vLxsK1ACN",
        "outputId": "c5a3cc46-a631-4637-dfc7-445793d99b56"
      },
      "execution_count": 7,
      "outputs": [
        {
          "output_type": "stream",
          "name": "stdout",
          "text": [
            "Digite a primeira nota: 6\n",
            "Digite a segunda nota: 6\n",
            "Digite a terceira nota: 5\n",
            "Digite a quarta nota: 4\n",
            "Média: 18.0\n"
          ]
        }
      ]
    },
    {
      "cell_type": "code",
      "source": [
        "metroparacentimentro = float(input(\"Digite um número: \"))\n",
        "print(\"Coversão em centimetros: \", (metroparacentimentro*100))"
      ],
      "metadata": {
        "colab": {
          "base_uri": "https://localhost:8080/"
        },
        "id": "8d65_4z22Jmd",
        "outputId": "c26e36c3-f023-4f09-a126-79479ef97dc6"
      },
      "execution_count": 8,
      "outputs": [
        {
          "output_type": "stream",
          "name": "stdout",
          "text": [
            "Digite um número: 100\n",
            "Coversão em centimetros:  10000.0\n"
          ]
        }
      ]
    },
    {
      "cell_type": "code",
      "source": [
        "raiodocirculo = float(input(\"Digite o raio: \"))\n",
        "print(\"Área do circulo: \", (raiodocirculo*2*3*3.14))"
      ],
      "metadata": {
        "colab": {
          "base_uri": "https://localhost:8080/"
        },
        "id": "pAhg3K9e2-o9",
        "outputId": "8384a6ed-f0cb-4230-81ac-de2565a0853a"
      },
      "execution_count": 11,
      "outputs": [
        {
          "output_type": "stream",
          "name": "stdout",
          "text": [
            "Digite o raio: 7\n",
            "Área do circulo:  131.88\n"
          ]
        }
      ]
    },
    {
      "cell_type": "code",
      "source": [
        "areadoquadrado = float(input(\"Digite a altura do quadrado: \"))\n",
        "print(\"Área do quadrado: \", (areadoquadrado**2 * 2))"
      ],
      "metadata": {
        "colab": {
          "base_uri": "https://localhost:8080/"
        },
        "id": "4lIl_7303eFt",
        "outputId": "c94846ba-e9a4-4502-bc59-c75c14ae3243"
      },
      "execution_count": 13,
      "outputs": [
        {
          "output_type": "stream",
          "name": "stdout",
          "text": [
            "Digite a altura do quadrado: 4\n",
            "Área do quadrado:  32.0\n"
          ]
        }
      ]
    },
    {
      "cell_type": "code",
      "source": [
        "var1 = int(input(\"Quanto você ganha por hora: \"))\n",
        "var2 = int(input(\"Quantas horas você trabalha por mês: \"))\n",
        "print(\"Total do salário por mês: \", (var1*var2))"
      ],
      "metadata": {
        "colab": {
          "base_uri": "https://localhost:8080/"
        },
        "id": "xNRGaPG34ixE",
        "outputId": "0c5fa807-3bd3-4351-cdbf-f474de1edb8c"
      },
      "execution_count": 15,
      "outputs": [
        {
          "output_type": "stream",
          "name": "stdout",
          "text": [
            "Quanto você ganha por hora: 45\n",
            "Quantas horas você trabalha por mês: 45\n",
            "Total do salário por mês:  2025\n"
          ]
        }
      ]
    },
    {
      "cell_type": "code",
      "source": [
        "f = float(input(\"Temperatura para Fahrenheit: \"))\n",
        "print(\"Transforme  e mostrea temperatura em graus celsius: \", (5*((f-32) /9 )))"
      ],
      "metadata": {
        "colab": {
          "base_uri": "https://localhost:8080/"
        },
        "id": "StPGqyFu5Lcr",
        "outputId": "d6697177-d1d0-4fd9-8efa-1ac619f10a9c"
      },
      "execution_count": 16,
      "outputs": [
        {
          "output_type": "stream",
          "name": "stdout",
          "text": [
            "Temperatura para Fahrenheit: 5\n",
            "Transforme  e mostrea temperatura em graus celsius:  -15.0\n"
          ]
        }
      ]
    },
    {
      "cell_type": "code",
      "source": [
        "c =  float(input(\"Temperatura em graus celsius: \"))\n",
        "print(\"Transforme em Fahrenheit: \", (c*(9/5) + 32))"
      ],
      "metadata": {
        "colab": {
          "base_uri": "https://localhost:8080/"
        },
        "id": "OmPFOjx45rCj",
        "outputId": "490045f9-0e88-4855-f9c5-0e5f924a6d52"
      },
      "execution_count": 17,
      "outputs": [
        {
          "output_type": "stream",
          "name": "stdout",
          "text": [
            "Temperatura em graus celsius: 8\n",
            "Transforme em Fahrenheit:  46.4\n"
          ]
        }
      ]
    },
    {
      "cell_type": "code",
      "source": [
        ""
      ],
      "metadata": {
        "id": "UQ4mTZAe6brc"
      },
      "execution_count": null,
      "outputs": []
    },
    {
      "cell_type": "code",
      "source": [
        "var1 = int(input(\"Primeiro número inteiro: \"))\n",
        "var2 = int(input(\"Segundo número inteiro: \"))\n",
        "var3 = int(input(\"Número real: \"))\n",
        "print(\"Soma: \", (2 * var1) * (var2/2))\n",
        "print(\"Produto: \", (3 * var1) + var3 )\n",
        "print(\"Cubo: \", ( var3 ** 3))"
      ],
      "metadata": {
        "colab": {
          "base_uri": "https://localhost:8080/"
        },
        "id": "H5ZSFUfx6GsL",
        "outputId": "e3698f7a-d508-417d-b5a7-4780bc8b440f"
      },
      "execution_count": 22,
      "outputs": [
        {
          "output_type": "stream",
          "name": "stdout",
          "text": [
            "Primeiro número inteiro: 4\n",
            "Segundo número inteiro: 8\n",
            "Número real: 9\n",
            "Soma:  32.0\n",
            "Produto:  21\n",
            "Cubo:  729\n"
          ]
        }
      ]
    },
    {
      "cell_type": "code",
      "source": [
        "altura = float(input(\"Altura: \"))\n",
        "print(\"Peso ideal: \", (72.7 * altura) - 58))"
      ],
      "metadata": {
        "colab": {
          "base_uri": "https://localhost:8080/",
          "height": 132
        },
        "id": "CUaHD0IA7ekr",
        "outputId": "aa1127d8-0dd3-47b6-eaac-088bab2d4aa6"
      },
      "execution_count": 25,
      "outputs": [
        {
          "output_type": "error",
          "ename": "SyntaxError",
          "evalue": "ignored",
          "traceback": [
            "\u001b[0;36m  File \u001b[0;32m\"<ipython-input-25-2e7514b79a73>\"\u001b[0;36m, line \u001b[0;32m2\u001b[0m\n\u001b[0;31m    print(\"Peso ideal: \", (72.7 * altura) - 58))\u001b[0m\n\u001b[0m                                               ^\u001b[0m\n\u001b[0;31mSyntaxError\u001b[0m\u001b[0;31m:\u001b[0m invalid syntax\n"
          ]
        }
      ]
    }
  ]
}