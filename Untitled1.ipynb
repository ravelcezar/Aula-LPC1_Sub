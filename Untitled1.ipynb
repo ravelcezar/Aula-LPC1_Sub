{
  "nbformat": 4,
  "nbformat_minor": 0,
  "metadata": {
    "colab": {
      "name": "Untitled1.ipynb",
      "provenance": [],
      "authorship_tag": "ABX9TyP2FiMCsQyqTBQTqGWNSSFw",
      "include_colab_link": true
    },
    "kernelspec": {
      "name": "python3",
      "display_name": "Python 3"
    },
    "language_info": {
      "name": "python"
    }
  },
  "cells": [
    {
      "cell_type": "markdown",
      "metadata": {
        "id": "view-in-github",
        "colab_type": "text"
      },
      "source": [
        "<a href=\"https://colab.research.google.com/github/ravelcezar/Aula-LPC1_Sub/blob/main/Untitled1.ipynb\" target=\"_parent\"><img src=\"https://colab.research.google.com/assets/colab-badge.svg\" alt=\"Open In Colab\"/></a>"
      ]
    },
    {
      "cell_type": "code",
      "execution_count": 2,
      "metadata": {
        "colab": {
          "base_uri": "https://localhost:8080/",
          "height": 0
        },
        "id": "c8CMd0v7ZieW",
        "outputId": "0fd255bd-de7a-4b24-b415-54201f56b596"
      },
      "outputs": [
        {
          "output_type": "stream",
          "name": "stdout",
          "text": [
            "João\n",
            "Lucas\n",
            "Adalberto\n"
          ]
        }
      ],
      "source": [
        "# ETE PORTO DIGITAL\n",
        "# PROFESSOR: CLOVES LOPES\n",
        "# ESTUDANTE: RAVEL CEZAR\n",
        "\n",
        "nomes = [\"João\" , \"Lucas\" , \"Adalberto\"]\n",
        "for n in nomes:\n",
        "  print(n)"
      ]
    }
  ]
}