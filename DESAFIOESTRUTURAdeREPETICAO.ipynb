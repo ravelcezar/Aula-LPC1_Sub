{
  "nbformat": 4,
  "nbformat_minor": 0,
  "metadata": {
    "colab": {
      "name": "DESAFIOESTRUTURAdeREPETICAO.ipynb",
      "provenance": [],
      "authorship_tag": "ABX9TyMKG9RFSYbRMzlrcV17t1Ic",
      "include_colab_link": true
    },
    "kernelspec": {
      "name": "python3",
      "display_name": "Python 3"
    },
    "language_info": {
      "name": "python"
    }
  },
  "cells": [
    {
      "cell_type": "markdown",
      "metadata": {
        "id": "view-in-github",
        "colab_type": "text"
      },
      "source": [
        "<a href=\"https://colab.research.google.com/github/ravelcezar/Aula-LPC1_Sub/blob/main/DESAFIOESTRUTURAdeREPETICAO.ipynb\" target=\"_parent\"><img src=\"https://colab.research.google.com/assets/colab-badge.svg\" alt=\"Open In Colab\"/></a>"
      ]
    },
    {
      "cell_type": "code",
      "execution_count": 1,
      "metadata": {
        "colab": {
          "base_uri": "https://localhost:8080/"
        },
        "id": "Y8xt9SIRM3Z6",
        "outputId": "061f447c-264f-447b-d5f2-5478a788bcf3"
      },
      "outputs": [
        {
          "output_type": "stream",
          "name": "stdout",
          "text": [
            "Digite uma nota entre 0 e 10: 5\n",
            "Você digitou a nota número 5 !\n"
          ]
        }
      ],
      "source": [
        "#ETE PORTO DIGIAL\n",
        "#PROFESSOR: CLOVES ROCHA\n",
        "#ALUNO: RAVEL CEZAR\n",
        "\n",
        "num = int(input('Digite uma nota entre 0 e 10: '))\n",
        "while num > 10 or num < 0:\n",
        "  print('Nota inválida, tente novamente !')\n",
        "  num = int(input('Digite uma nota entre 0 e 10: '))\n",
        "print(f'Você digitou a nota número {num} !')"
      ]
    },
    {
      "cell_type": "code",
      "source": [
        "nome = str(input('Digite o seu nome de usuário: '))\n",
        "senha = input('Digite a sua senha de usuário: ')\n",
        "while senha == nome:\n",
        "  print('ERRO. A sua senha é idêntica ao nome de usuário, por favor, tente novamente !')\n",
        "  senha = input('Digite a sua senha de usuário: ')\n",
        "print('Cadastro Finalizado !')"
      ],
      "metadata": {
        "colab": {
          "base_uri": "https://localhost:8080/"
        },
        "id": "yMcrALoCOHZN",
        "outputId": "139c84ac-ddfe-423e-93ae-c18bea54a702"
      },
      "execution_count": 2,
      "outputs": [
        {
          "output_type": "stream",
          "name": "stdout",
          "text": [
            "Digite o seu nome de usuário: ravel\n",
            "Digite a sua senha de usuário: 111\n",
            "Cadastro Finalizado !\n"
          ]
        }
      ]
    },
    {
      "cell_type": "code",
      "source": [
        "print('=-='*5)\n",
        "from time import sleep\n",
        "A1 = 80000\n",
        "B1 = 200000\n",
        "A2 = 80000\n",
        "B2 = 200000\n",
        "ano1 = 0\n",
        "ano2 = 0\n",
        "print('O país \"A\" possui atualmente 80.000 mil habitantes e com um aumento de 3% ao ano !')\n",
        "print('O país \"B\" possui atualmente 200.000 mil habitantes e com um aumento de 1,5% ao ano !')\n",
        "print('=-='*5)\n",
        "print('Vamos calcular quanto tempo o país \"A\" precisará crescrer populacionalmente para alcançar ou ultrapassar o país \"B\" ?')\n",
        "print('SIM\\n')\n",
        "print('PROCESSANDO...')\n",
        "sleep(2)\n",
        "while A2 < B2:\n",
        "  A2 = A2 * 3 / 100 + A2\n",
        "  ano1 = ano1 + 1\n",
        "while A1 < B1:\n",
        "  A1 = A1 * 3 / 100 + A1\n",
        "  B1 = B1 * 1.5 / 100 + B1\n",
        "  ano2 = ano2 + 1\n",
        "print('=-='*5)\n",
        "print(f'Para que o país \"A\" alcance a população do país \"B\" com um total de 200.000 mil habitantes fixos,\\nele terá que manter seu crescimento por {ano1} anos !')\n",
        "print(f'População País \"A\": {A2:.0f}\\nPopulação País \"B\": {B2:.0f}')\n",
        "print(f'Porém, para ele ultrapassar de fato o país \"B\" acompanhando o seu crescimento, ele terá que aguardar {ano2} anos ')\n",
        "print(f'População País \"A\": {A1:.0f}\\nPopulação País \"B\": {B1:.0f}')\n",
        "print('=-='*5)"
      ],
      "metadata": {
        "colab": {
          "base_uri": "https://localhost:8080/"
        },
        "id": "ku_epg_3ORiE",
        "outputId": "18e54fc4-0c1c-4c2b-c11e-a0ace9a7b537"
      },
      "execution_count": 3,
      "outputs": [
        {
          "output_type": "stream",
          "name": "stdout",
          "text": [
            "=-==-==-==-==-=\n",
            "O país \"A\" possui atualmente 80.000 mil habitantes e com um aumento de 3% ao ano !\n",
            "O país \"B\" possui atualmente 200.000 mil habitantes e com um aumento de 1,5% ao ano !\n",
            "=-==-==-==-==-=\n",
            "Vamos calcular quanto tempo o país \"A\" precisará crescrer populacionalmente para alcançar ou ultrapassar o país \"B\" ?\n",
            "SIM\n",
            "\n",
            "PROCESSANDO...\n",
            "=-==-==-==-==-=\n",
            "Para que o país \"A\" alcance a população do país \"B\" com um total de 200.000 mil habitantes fixos,\n",
            "ele terá que manter seu crescimento por 31 anos !\n",
            "População País \"A\": 200006\n",
            "População País \"B\": 200000\n",
            "Porém, para ele ultrapassar de fato o país \"B\" acompanhando o seu crescimento, ele terá que aguardar 63 anos \n",
            "População País \"A\": 515033\n",
            "População País \"B\": 510964\n",
            "=-==-==-==-==-=\n"
          ]
        }
      ]
    },
    {
      "cell_type": "code",
      "source": [
        "print('=-='*5)\n",
        "from time import sleep\n",
        "rep = 'S'\n",
        "while rep == 'S':\n",
        "  A1 = int(input('Informe a população do país \"A\": '))\n",
        "  ataxa = float(input('Informe a taxa de crescimento do país \"A\": '))\n",
        "  B1 = int(input('Informe a população do país \"B\": '))\n",
        "  btaxa = float(input('Informe a taxa de crescimento do país \"B\": '))\n",
        "  A2 = A1\n",
        "  B2 = B1\n",
        "  ano1 = 0\n",
        "  ano2 = 0\n",
        "  print(f'O país \"A\" possui atualmente {A1} mil habitantes e com um aumento de {ataxa}% ao ano !')\n",
        "  print(f'O país \"B\" possui atualmente {B1} mil habitantes e com um aumento de {btaxa}% ao ano !')\n",
        "  print('=-='*5)\n",
        "  print('Vamos calcular quanto tempo o país \"A\" precisará crescrer populacionalmente para alcançar ou ultrapassar o país \"B\" ?')\n",
        "  print('SIM\\n')\n",
        "  print('PROCESSANDO...')\n",
        "  sleep(2)\n",
        "  while A2 < B2:\n",
        "    A2 = A2 * ataxa / 100 + A2\n",
        "    ano1 = ano1 + 1\n",
        "  while A1 < B1:\n",
        "    A1 = A1 * ataxa / 100 + A1\n",
        "    B1 = B1 * btaxa / 100 + B1\n",
        "    ano2 = ano2 + 1\n",
        "  print('=-='*5)\n",
        "  print(f'Para que o país \"A\" alcance a população do país \"B\" com um total de 200.000 mil habitantes fixos,\\nele terá que manter seu crescimento por {ano1} anos !')\n",
        "  print(f'População País \"A\": {A2:.0f}\\nPopulação País \"B\": {B2:.0f}')\n",
        "  print(f'Porém, para ele ultrapassar de fato o país \"B\" acompanhando o seu crescimento, ele terá que aguardar {ano2} anos ')\n",
        "  print(f'População País \"A\": {A1:.0f}\\nPopulação País \"B\": {B1:.0f}')\n",
        "  print('=-='*5)\n",
        "  rep = str(input('Deseja repetir ? (SIM - S|NÃO - N)')).upper()\n",
        "  while rep != 'S' and rep != 'N':\n",
        "    print('Ação inválida, tente novamente !')\n",
        "    rep = str(input('Deseja repetir ? (SIM - S|NÃO - N)')).upper()\n",
        "  if rep == 'S':\n",
        "    rep = 'S'\n",
        "  else:\n",
        "    rep = 'N'\n",
        "    print('Programa Finalizado !')"
      ],
      "metadata": {
        "colab": {
          "base_uri": "https://localhost:8080/"
        },
        "id": "Lwitl8R6OktD",
        "outputId": "44ce4cc0-f8cf-4b57-c11e-266729afce75"
      },
      "execution_count": 4,
      "outputs": [
        {
          "output_type": "stream",
          "name": "stdout",
          "text": [
            "=-==-==-==-==-=\n",
            "Informe a população do país \"A\": 90000\n",
            "Informe a taxa de crescimento do país \"A\": 5\n",
            "Informe a população do país \"B\": 7\n",
            "Informe a taxa de crescimento do país \"B\": 7\n",
            "O país \"A\" possui atualmente 90000 mil habitantes e com um aumento de 5.0% ao ano !\n",
            "O país \"B\" possui atualmente 7 mil habitantes e com um aumento de 7.0% ao ano !\n",
            "=-==-==-==-==-=\n",
            "Vamos calcular quanto tempo o país \"A\" precisará crescrer populacionalmente para alcançar ou ultrapassar o país \"B\" ?\n",
            "SIM\n",
            "\n",
            "PROCESSANDO...\n",
            "=-==-==-==-==-=\n",
            "Para que o país \"A\" alcance a população do país \"B\" com um total de 200.000 mil habitantes fixos,\n",
            "ele terá que manter seu crescimento por 0 anos !\n",
            "População País \"A\": 90000\n",
            "População País \"B\": 7\n",
            "Porém, para ele ultrapassar de fato o país \"B\" acompanhando o seu crescimento, ele terá que aguardar 0 anos \n",
            "População País \"A\": 90000\n",
            "População País \"B\": 7\n",
            "=-==-==-==-==-=\n",
            "Deseja repetir ? (SIM - S|NÃO - N)n\n",
            "Programa Finalizado !\n"
          ]
        }
      ]
    },
    {
      "cell_type": "code",
      "source": [
        "for num in range(20):\n",
        "  print(num+1)\n",
        "print('\\n')\n",
        "for num in range(20):\n",
        "  print(num+1, end=' ')"
      ],
      "metadata": {
        "colab": {
          "base_uri": "https://localhost:8080/"
        },
        "id": "KshBPthaOwIj",
        "outputId": "dc3476ed-c4a2-4d87-cb32-dd6674a9a04b"
      },
      "execution_count": 5,
      "outputs": [
        {
          "output_type": "stream",
          "name": "stdout",
          "text": [
            "1\n",
            "2\n",
            "3\n",
            "4\n",
            "5\n",
            "6\n",
            "7\n",
            "8\n",
            "9\n",
            "10\n",
            "11\n",
            "12\n",
            "13\n",
            "14\n",
            "15\n",
            "16\n",
            "17\n",
            "18\n",
            "19\n",
            "20\n",
            "\n",
            "\n",
            "1 2 3 4 5 6 7 8 9 10 11 12 13 14 15 16 17 18 19 20 "
          ]
        }
      ]
    },
    {
      "cell_type": "code",
      "source": [
        "numeros = []\n",
        "for num in range(1, 6):\n",
        "    numeros.append(int(input('Digite um número: ')))\n",
        "\n",
        "maiornum = numeros[0]\n",
        "\n",
        "cont = 1\n",
        "while cont < len(numeros):\n",
        "    if numeros[cont] > maiornum:\n",
        "        maiornum = numeros[cont]\n",
        "    cont = cont + 1\n",
        "        \n",
        "print ('O maior número é ' + str (maiornum))"
      ],
      "metadata": {
        "colab": {
          "base_uri": "https://localhost:8080/"
        },
        "id": "2YEEeaMUO3UK",
        "outputId": "5de6b6bd-41a2-4da8-ab9e-5ba6b3514889"
      },
      "execution_count": 6,
      "outputs": [
        {
          "output_type": "stream",
          "name": "stdout",
          "text": [
            "Digite um número: 5\n",
            "Digite um número: 96\n",
            "Digite um número: 789\n",
            "Digite um número: 145\n",
            "Digite um número: 1456\n",
            "O maior número é 1456\n"
          ]
        }
      ]
    },
    {
      "cell_type": "code",
      "source": [
        "numeros = []\n",
        "for num in range(1, 6):\n",
        "    numeros.append(int(input('Digite um número: ')))\n",
        "soma = numeros[0] + numeros[1] + numeros[2] + numeros[3] + numeros[4]\n",
        "print(f'A soma dos números digitados é {soma} !')\n",
        "media = (numeros[0] + numeros[1] + numeros[2] + numeros[3] + numeros[4]) / 5\n",
        "print(f'A média dos números digitados é {media} !')"
      ],
      "metadata": {
        "colab": {
          "base_uri": "https://localhost:8080/"
        },
        "id": "T7FAsQLiO-oi",
        "outputId": "ccb9cc57-cebf-4f54-b2b4-5610bbd47caf"
      },
      "execution_count": 10,
      "outputs": [
        {
          "output_type": "stream",
          "name": "stdout",
          "text": [
            "Digite um número: 8\n",
            "Digite um número: 15\n",
            "Digite um número: 20\n",
            "Digite um número: 178\n",
            "Digite um número: 145\n",
            "A soma dos números digitados é 366 !\n",
            "A média dos números digitados é 73.2 !\n"
          ]
        }
      ]
    },
    {
      "cell_type": "code",
      "source": [
        "num = 1\n",
        "for i in range(1, 26):\n",
        "  print(num)\n",
        "  num = num + 2"
      ],
      "metadata": {
        "colab": {
          "base_uri": "https://localhost:8080/"
        },
        "id": "Z7XvkTRvPNjr",
        "outputId": "3bb69d60-ca64-4cd9-ea2a-925f6d5efcbe"
      },
      "execution_count": 11,
      "outputs": [
        {
          "output_type": "stream",
          "name": "stdout",
          "text": [
            "1\n",
            "3\n",
            "5\n",
            "7\n",
            "9\n",
            "11\n",
            "13\n",
            "15\n",
            "17\n",
            "19\n",
            "21\n",
            "23\n",
            "25\n",
            "27\n",
            "29\n",
            "31\n",
            "33\n",
            "35\n",
            "37\n",
            "39\n",
            "41\n",
            "43\n",
            "45\n",
            "47\n",
            "49\n"
          ]
        }
      ]
    },
    {
      "cell_type": "code",
      "source": [
        "num1 = int(input('Digite um número: '))\n",
        "num2 = int(input('Digite outro número: '))\n",
        "if num1 > num2:\n",
        "  num1 = num1 - 1\n",
        "if num2 > num1:\n",
        "  num2 = num2 - 1\n",
        "for i in range(num1, num2):\n",
        "  num1 = num1 + 1\n",
        "  print(num1)\n",
        "for h in range(num2, num1):\n",
        "  num2 = num2 + 1\n",
        "  print(num2)"
      ],
      "metadata": {
        "colab": {
          "base_uri": "https://localhost:8080/"
        },
        "id": "r5eAC-K7PRZC",
        "outputId": "09d8a4e2-e8d0-4d90-a93d-6b37c8ac5510"
      },
      "execution_count": 12,
      "outputs": [
        {
          "output_type": "stream",
          "name": "stdout",
          "text": [
            "Digite um número: 85\n",
            "Digite outro número: 98\n",
            "86\n",
            "87\n",
            "88\n",
            "89\n",
            "90\n",
            "91\n",
            "92\n",
            "93\n",
            "94\n",
            "95\n",
            "96\n",
            "97\n"
          ]
        }
      ]
    },
    {
      "cell_type": "code",
      "source": [
        "num1 = int(input('Digite um número: '))\n",
        "num2 = int(input('Digite outro número: '))\n",
        "soma = num1+num2\n",
        "if num1 > num2:\n",
        "  num1 = num1 - 1\n",
        "if num2 > num1:\n",
        "  num2 = num2 - 1\n",
        "for i in range(num1, num2):\n",
        "  num1 = num1 + 1\n",
        "  print(num1)\n",
        "for h in range(num2, num1):\n",
        "  num2 = num2 + 1\n",
        "  print(num2)\n",
        "print(f'Soma entre eles: {soma}')"
      ],
      "metadata": {
        "colab": {
          "base_uri": "https://localhost:8080/"
        },
        "id": "RgXCz38DPXuB",
        "outputId": "2797ec32-44e4-4d7b-9454-9e62121572fa"
      },
      "execution_count": 13,
      "outputs": [
        {
          "output_type": "stream",
          "name": "stdout",
          "text": [
            "Digite um número: 7\n",
            "Digite outro número: 25\n",
            "8\n",
            "9\n",
            "10\n",
            "11\n",
            "12\n",
            "13\n",
            "14\n",
            "15\n",
            "16\n",
            "17\n",
            "18\n",
            "19\n",
            "20\n",
            "21\n",
            "22\n",
            "23\n",
            "24\n",
            "Soma entre eles: 32\n"
          ]
        }
      ]
    },
    {
      "cell_type": "code",
      "source": [
        "quant = int(input(\"Digite a quantidade de CD's: \"))\n",
        "cont = 1\n",
        "total = []\n",
        "for i in range(0, quant):\n",
        "  total.append(int(input(f'Digite o valor do {cont}° CD: R$')))\n",
        "  cont = cont + 1\n",
        "soma = sum(total)\n",
        "media = soma / quant\n",
        "print(f\"O valor de todos os CD's é R${soma}, já a média deles são: R${media}.\")"
      ],
      "metadata": {
        "colab": {
          "base_uri": "https://localhost:8080/"
        },
        "id": "vAW_MpWWPlpb",
        "outputId": "758d2df3-7de0-4e3c-8e20-5c4f388a47b9"
      },
      "execution_count": 16,
      "outputs": [
        {
          "output_type": "stream",
          "name": "stdout",
          "text": [
            "Digite a quantidade de CD's: 3\n",
            "Digite o valor do 1° CD: R$10\n",
            "Digite o valor do 2° CD: R$20\n",
            "Digite o valor do 3° CD: R$30\n",
            "O valor de todos os CD's é R$60, já a média deles são: R$20.0.\n"
          ]
        }
      ]
    },
    {
      "cell_type": "code",
      "source": [
        "idade = []\n",
        "altura = []\n",
        "\n",
        "for x in range(0, 10):\n",
        "  idade.append(int(input('Digite a idade do aluno: ')))\n",
        "  altura.append(int(input('Digite a altura do aluno em CM: ')))\n",
        "print('=-='*5)\n",
        "for z in range(0, len(altura)):\n",
        "  if altura[z] == max(altura):\n",
        "    print(f'Idade do aluno mais alto: {idade[z]}')\n",
        "    print(f'Altura do aluno em CM: {altura[z]}')\n",
        "for y in range(0, len(altura)):\n",
        "  if altura[y] == min(altura):\n",
        "    print(f'Idade do aluno mais baixo: {idade[y]}')\n",
        "    print(f'Altura do aluno em CM: {altura[y]}')"
      ],
      "metadata": {
        "colab": {
          "base_uri": "https://localhost:8080/"
        },
        "id": "Yto-qCKLQC74",
        "outputId": "ebf31a72-83f0-4676-f2e6-ddd12e88ea0b"
      },
      "execution_count": 17,
      "outputs": [
        {
          "output_type": "stream",
          "name": "stdout",
          "text": [
            "Digite a idade do aluno: 23\n",
            "Digite a altura do aluno em CM: 190\n",
            "Digite a idade do aluno: 23\n",
            "Digite a altura do aluno em CM: 190\n",
            "Digite a idade do aluno: 23\n",
            "Digite a altura do aluno em CM: 185\n",
            "Digite a idade do aluno: 25\n",
            "Digite a altura do aluno em CM: 160\n",
            "Digite a idade do aluno: 19\n",
            "Digite a altura do aluno em CM: 150\n",
            "Digite a idade do aluno: 18\n",
            "Digite a altura do aluno em CM: 168\n",
            "Digite a idade do aluno: 20\n",
            "Digite a altura do aluno em CM: 170\n",
            "Digite a idade do aluno: 21\n",
            "Digite a altura do aluno em CM: 175\n",
            "Digite a idade do aluno: 24\n",
            "Digite a altura do aluno em CM: 186\n",
            "Digite a idade do aluno: 25\n",
            "Digite a altura do aluno em CM: 166\n",
            "=-==-==-==-==-=\n",
            "Idade do aluno mais alto: 23\n",
            "Altura do aluno em CM: 190\n",
            "Idade do aluno mais alto: 23\n",
            "Altura do aluno em CM: 190\n",
            "Idade do aluno mais baixo: 19\n",
            "Altura do aluno em CM: 150\n"
          ]
        }
      ]
    },
    {
      "cell_type": "code",
      "source": [
        "num0 = []\n",
        "num26 = []\n",
        "num51 = []\n",
        "num76 = []\n",
        "num101 = []\n",
        "num1 = 1\n",
        "cont = 1\n",
        "print('Digite quantos números desejar, para finalizar, digite um número negativo.')\n",
        "while num1 > -1:\n",
        "  num1 = int(input(f'Digite o {cont}° número: '))\n",
        "  cont = cont + 1\n",
        "  if num1 > -1 and num1 < 26:\n",
        "    num0.append(num1)\n",
        "  elif num1 > 25 and num1 < 51:\n",
        "    num26.append(num1)\n",
        "  elif num1 > 50 and num1 < 76:\n",
        "    num51.append(num1)\n",
        "  elif num1 > 75 and num1 < 101:\n",
        "    num76.append(num1)\n",
        "  elif num1 > 100:\n",
        "    num101.append(num1)\n",
        "print('Analisando os números digitados anteriormente, observe quantos estão nos intervalos abaixo: ')\n",
        "total = num0 + num26 + num51 + num76 + num101\n",
        "print(total)\n",
        "print(f'[Total = {len(total)}')\n",
        "print(f'[0-25] = {len(num0)}')\n",
        "print(f'[26-50] = {len(num26)}')\n",
        "print(f'[51-75] = {len(num51)}')\n",
        "print(f'[76-100] = {len(num76)}')\n",
        "print(f'[100+] = {len(num101)}')"
      ],
      "metadata": {
        "colab": {
          "base_uri": "https://localhost:8080/"
        },
        "id": "eNIvLitQQadA",
        "outputId": "da0371e5-9d9e-4c45-962d-74f131dd1418"
      },
      "execution_count": 18,
      "outputs": [
        {
          "output_type": "stream",
          "name": "stdout",
          "text": [
            "Digite quantos números desejar, para finalizar, digite um número negativo.\n",
            "Digite o 1° número: 5\n",
            "Digite o 2° número: 6\n",
            "Digite o 3° número: 8\n",
            "Digite o 4° número: 10\n",
            "Digite o 5° número: 98\n",
            "Digite o 6° número: 65\n",
            "Digite o 7° número: 35\n",
            "Digite o 8° número: 24\n",
            "Digite o 9° número: 26\n",
            "Digite o 10° número: 28\n",
            "Digite o 11° número: 24\n",
            "Digite o 12° número: 15\n",
            "Digite o 13° número: -85\n",
            "Analisando os números digitados anteriormente, observe quantos estão nos intervalos abaixo: \n",
            "[5, 6, 8, 10, 24, 24, 15, 35, 26, 28, 65, 98]\n",
            "[Total = 12\n",
            "[0-25] = 7\n",
            "[26-50] = 3\n",
            "[51-75] = 1\n",
            "[76-100] = 1\n",
            "[100+] = 0\n"
          ]
        }
      ]
    },
    {
      "cell_type": "code",
      "source": [
        ""
      ],
      "metadata": {
        "id": "XTN00El2QkbX"
      },
      "execution_count": null,
      "outputs": []
    }
  ]
}